{
 "cells": [
  {
   "cell_type": "code",
   "execution_count": 5,
   "metadata": {},
   "outputs": [],
   "source": [
    "from fastapi import FastAPI, HTTPException\n",
    "import secrets\n",
    "import time\n",
    "\n",
    "app = FastAPI()\n",
    "\n",
    "# 토큰 저장소 (DB 대신 메모리 사용, 실제 배포 시 DB 사용 추천)\n",
    "TOKENS = {}\n",
    "address = 'https://chatgpt.com/g/g-67a089879d0c819184d793d8ab8ed247-ai-essay'\n",
    "\n",
    "# ✅ **토큰 생성 API** (관리자가 실행)\n",
    "def generate_auth_link(user_email: str):\n",
    "    token = secrets.token_urlsafe(32)  # 랜덤한 토큰 생성\n",
    "    TOKENS[token] = {\"email\": user_email, \"expires\": time.time() + 86400}  # 24시간 유효\n",
    "    return f\"{address}/auth?token={token}\""
   ]
  },
  {
   "cell_type": "code",
   "execution_count": 6,
   "metadata": {},
   "outputs": [
    {
     "name": "stdout",
     "output_type": "stream",
     "text": [
      "Send this link to the user: https://chatgpt.com/g/g-67a089879d0c819184d793d8ab8ed247-ai-essay/auth?token=Y91JXf3Mcno2lAd3anEhd7CdAYU2qxk0aFBnm2BxFrM\n"
     ]
    }
   ],
   "source": [
    "# ✅ **이메일 수동 발송**\n",
    "# 구매 확인 후, 아래 명령어를 실행하여 링크를 이메일에 포함하여 보내세요\n",
    "\n",
    "email = \"user@example.com\"\n",
    "auth_link = generate_auth_link(email)\n",
    "print(f\"Send this link to the user: {auth_link}\")\n"
   ]
  },
  {
   "cell_type": "code",
   "execution_count": 7,
   "metadata": {},
   "outputs": [],
   "source": [
    "\n",
    "\n",
    "# ✅ **사용자가 링크 클릭하면 자동 로그인**\n",
    "@app.get(\"/auth\")\n",
    "def authenticate(token: str):\n",
    "    if token not in TOKENS or time.time() > TOKENS[token][\"expires\"]:\n",
    "        raise HTTPException(status_code=401, detail=\"Invalid or expired token\")\n",
    "\n",
    "    user_email = TOKENS[token][\"email\"]\n",
    "    return {\"message\": \"Authentication successful!\", \"email\": user_email, \"access_granted\": True}\n"
   ]
  },
  {
   "cell_type": "code",
   "execution_count": null,
   "metadata": {},
   "outputs": [],
   "source": []
  },
  {
   "cell_type": "code",
   "execution_count": 8,
   "metadata": {},
   "outputs": [],
   "source": [
    "from fastapi import FastAPI, HTTPException\n",
    "from fastapi.responses import RedirectResponse\n",
    "import time\n",
    "\n",
    "app = FastAPI()\n",
    "\n",
    "# ✅ 토큰 저장소 (DB 대신 임시 사용)\n",
    "TOKENS = {\n",
    "    \"abc\": {\n",
    "        \"expires\": time.time() + 86400,  # 24시간 유효\n",
    "        \"redirect_url\": \"https://chatgpt.com/g/g-67a089879d0c819184d793d8ab8ed247-ai-essay\"\n",
    "    }\n",
    "}\n",
    "\n",
    "@app.get(\"/auth\")\n",
    "def authenticate(token: str):\n",
    "    # ✅ 토큰 유효성 검사\n",
    "    if token not in TOKENS or time.time() > TOKENS[token][\"expires\"]:\n",
    "        raise HTTPException(status_code=401, detail=\"Invalid or expired token\")\n",
    "\n",
    "    # ✅ ChatGPT 맞춤형 GPT 페이지로 리디렉트\n",
    "    chatgpt_url = TOKENS[token][\"redirect_url\"]\n",
    "    return RedirectResponse(url=chatgpt_url)\n",
    "\n"
   ]
  },
  {
   "cell_type": "code",
   "execution_count": null,
   "metadata": {},
   "outputs": [],
   "source": []
  }
 ],
 "metadata": {
  "kernelspec": {
   "display_name": "Python 3",
   "language": "python",
   "name": "python3"
  },
  "language_info": {
   "codemirror_mode": {
    "name": "ipython",
    "version": 3
   },
   "file_extension": ".py",
   "mimetype": "text/x-python",
   "name": "python",
   "nbconvert_exporter": "python",
   "pygments_lexer": "ipython3",
   "version": "3.8.6"
  }
 },
 "nbformat": 4,
 "nbformat_minor": 2
}
